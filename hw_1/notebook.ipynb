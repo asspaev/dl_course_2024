{
 "cells": [
  {
   "cell_type": "markdown",
   "metadata": {},
   "source": [
    "# Импорты"
   ]
  },
  {
   "cell_type": "code",
   "execution_count": 7,
   "metadata": {},
   "outputs": [],
   "source": [
    "import os\n",
    "import random\n",
    "import numpy as np\n",
    "import pandas as pd\n",
    "from collections import Counter\n",
    "\n",
    "import torch\n",
    "import torch.nn as nn\n",
    "from torch.utils.data import DataLoader, Dataset\n",
    "import torch.optim as optim\n",
    "\n",
    "from sklearn.model_selection import train_test_split\n",
    "from sklearn.metrics import classification_report\n",
    "from sklearn.preprocessing import StandardScaler\n",
    "\n",
    "from tqdm.notebook import tqdm"
   ]
  },
  {
   "cell_type": "markdown",
   "metadata": {},
   "source": [
    "Зафиксируем random_seed"
   ]
  },
  {
   "cell_type": "code",
   "execution_count": 2,
   "metadata": {},
   "outputs": [
    {
     "name": "stdout",
     "output_type": "stream",
     "text": [
      "Random seed set as 42\n"
     ]
    }
   ],
   "source": [
    "def set_seed(seed: int = 42) -> None:\n",
    "    np.random.seed(seed)\n",
    "    random.seed(seed)\n",
    "    torch.manual_seed(seed)\n",
    "    torch.cuda.manual_seed(seed)\n",
    "    # When running on the CuDNN backend, two further options must be set\n",
    "    torch.backends.cudnn.deterministic = True\n",
    "    torch.backends.cudnn.benchmark = False\n",
    "    # Set a fixed value for the hash seed\n",
    "    os.environ[\"PYTHONHASHSEED\"] = str(seed)\n",
    "    print(f\"Random seed set as {seed}\")\n",
    "\n",
    "set_seed(42)"
   ]
  },
  {
   "cell_type": "markdown",
   "metadata": {},
   "source": [
    "# 1 Загрузка датасета"
   ]
  },
  {
   "cell_type": "code",
   "execution_count": 3,
   "metadata": {},
   "outputs": [
    {
     "data": {
      "text/html": [
       "<div>\n",
       "<style scoped>\n",
       "    .dataframe tbody tr th:only-of-type {\n",
       "        vertical-align: middle;\n",
       "    }\n",
       "\n",
       "    .dataframe tbody tr th {\n",
       "        vertical-align: top;\n",
       "    }\n",
       "\n",
       "    .dataframe thead th {\n",
       "        text-align: right;\n",
       "    }\n",
       "</style>\n",
       "<table border=\"1\" class=\"dataframe\">\n",
       "  <thead>\n",
       "    <tr style=\"text-align: right;\">\n",
       "      <th></th>\n",
       "      <th>svcscan.fs_drivers</th>\n",
       "      <th>callbacks.ngeneric</th>\n",
       "      <th>psxview.not_in_eprocess_pool_false_avg</th>\n",
       "      <th>psxview.not_in_eprocess_pool</th>\n",
       "      <th>callbacks.nanonymous</th>\n",
       "      <th>psxview.not_in_session</th>\n",
       "      <th>psxview.not_in_pslist</th>\n",
       "      <th>psxview.not_in_pspcid_list</th>\n",
       "      <th>psxview.not_in_ethread_pool</th>\n",
       "      <th>psxview.not_in_csrss_handles</th>\n",
       "      <th>psxview.not_in_pslist_false_avg</th>\n",
       "      <th>psxview.not_in_pspcid_list_false_avg</th>\n",
       "      <th>psxview.not_in_deskthrd</th>\n",
       "      <th>psxview.not_in_ethread_pool_false_avg</th>\n",
       "      <th>psxview.not_in_session_false_avg</th>\n",
       "      <th>Class</th>\n",
       "    </tr>\n",
       "  </thead>\n",
       "  <tbody>\n",
       "    <tr>\n",
       "      <th>0</th>\n",
       "      <td>26</td>\n",
       "      <td>8</td>\n",
       "      <td>0.0</td>\n",
       "      <td>0</td>\n",
       "      <td>0</td>\n",
       "      <td>2</td>\n",
       "      <td>0</td>\n",
       "      <td>0</td>\n",
       "      <td>0</td>\n",
       "      <td>4</td>\n",
       "      <td>0.000000</td>\n",
       "      <td>0.000000</td>\n",
       "      <td>6</td>\n",
       "      <td>0.000000</td>\n",
       "      <td>0.044444</td>\n",
       "      <td>1</td>\n",
       "    </tr>\n",
       "    <tr>\n",
       "      <th>1</th>\n",
       "      <td>26</td>\n",
       "      <td>8</td>\n",
       "      <td>0.0</td>\n",
       "      <td>0</td>\n",
       "      <td>0</td>\n",
       "      <td>5</td>\n",
       "      <td>3</td>\n",
       "      <td>3</td>\n",
       "      <td>3</td>\n",
       "      <td>7</td>\n",
       "      <td>0.073171</td>\n",
       "      <td>0.073171</td>\n",
       "      <td>9</td>\n",
       "      <td>0.073171</td>\n",
       "      <td>0.121951</td>\n",
       "      <td>1</td>\n",
       "    </tr>\n",
       "    <tr>\n",
       "      <th>2</th>\n",
       "      <td>26</td>\n",
       "      <td>8</td>\n",
       "      <td>0.0</td>\n",
       "      <td>0</td>\n",
       "      <td>0</td>\n",
       "      <td>9</td>\n",
       "      <td>7</td>\n",
       "      <td>7</td>\n",
       "      <td>7</td>\n",
       "      <td>11</td>\n",
       "      <td>0.152174</td>\n",
       "      <td>0.152174</td>\n",
       "      <td>13</td>\n",
       "      <td>0.152174</td>\n",
       "      <td>0.195652</td>\n",
       "      <td>1</td>\n",
       "    </tr>\n",
       "    <tr>\n",
       "      <th>3</th>\n",
       "      <td>26</td>\n",
       "      <td>8</td>\n",
       "      <td>0.0</td>\n",
       "      <td>0</td>\n",
       "      <td>0</td>\n",
       "      <td>3</td>\n",
       "      <td>1</td>\n",
       "      <td>1</td>\n",
       "      <td>2</td>\n",
       "      <td>6</td>\n",
       "      <td>0.022222</td>\n",
       "      <td>0.022222</td>\n",
       "      <td>9</td>\n",
       "      <td>0.044444</td>\n",
       "      <td>0.066667</td>\n",
       "      <td>1</td>\n",
       "    </tr>\n",
       "    <tr>\n",
       "      <th>4</th>\n",
       "      <td>26</td>\n",
       "      <td>8</td>\n",
       "      <td>0.0</td>\n",
       "      <td>0</td>\n",
       "      <td>0</td>\n",
       "      <td>2</td>\n",
       "      <td>0</td>\n",
       "      <td>0</td>\n",
       "      <td>0</td>\n",
       "      <td>4</td>\n",
       "      <td>0.000000</td>\n",
       "      <td>0.000000</td>\n",
       "      <td>6</td>\n",
       "      <td>0.000000</td>\n",
       "      <td>0.048780</td>\n",
       "      <td>0</td>\n",
       "    </tr>\n",
       "  </tbody>\n",
       "</table>\n",
       "</div>"
      ],
      "text/plain": [
       "   svcscan.fs_drivers  callbacks.ngeneric  \\\n",
       "0                  26                   8   \n",
       "1                  26                   8   \n",
       "2                  26                   8   \n",
       "3                  26                   8   \n",
       "4                  26                   8   \n",
       "\n",
       "   psxview.not_in_eprocess_pool_false_avg  psxview.not_in_eprocess_pool  \\\n",
       "0                                     0.0                             0   \n",
       "1                                     0.0                             0   \n",
       "2                                     0.0                             0   \n",
       "3                                     0.0                             0   \n",
       "4                                     0.0                             0   \n",
       "\n",
       "   callbacks.nanonymous  psxview.not_in_session  psxview.not_in_pslist  \\\n",
       "0                     0                       2                      0   \n",
       "1                     0                       5                      3   \n",
       "2                     0                       9                      7   \n",
       "3                     0                       3                      1   \n",
       "4                     0                       2                      0   \n",
       "\n",
       "   psxview.not_in_pspcid_list  psxview.not_in_ethread_pool  \\\n",
       "0                           0                            0   \n",
       "1                           3                            3   \n",
       "2                           7                            7   \n",
       "3                           1                            2   \n",
       "4                           0                            0   \n",
       "\n",
       "   psxview.not_in_csrss_handles  psxview.not_in_pslist_false_avg  \\\n",
       "0                             4                         0.000000   \n",
       "1                             7                         0.073171   \n",
       "2                            11                         0.152174   \n",
       "3                             6                         0.022222   \n",
       "4                             4                         0.000000   \n",
       "\n",
       "   psxview.not_in_pspcid_list_false_avg  psxview.not_in_deskthrd  \\\n",
       "0                              0.000000                        6   \n",
       "1                              0.073171                        9   \n",
       "2                              0.152174                       13   \n",
       "3                              0.022222                        9   \n",
       "4                              0.000000                        6   \n",
       "\n",
       "   psxview.not_in_ethread_pool_false_avg  psxview.not_in_session_false_avg  \\\n",
       "0                               0.000000                          0.044444   \n",
       "1                               0.073171                          0.121951   \n",
       "2                               0.152174                          0.195652   \n",
       "3                               0.044444                          0.066667   \n",
       "4                               0.000000                          0.048780   \n",
       "\n",
       "   Class  \n",
       "0      1  \n",
       "1      1  \n",
       "2      1  \n",
       "3      1  \n",
       "4      0  "
      ]
     },
     "execution_count": 3,
     "metadata": {},
     "output_type": "execute_result"
    }
   ],
   "source": [
    "df = pd.read_csv('cybersequrity.csv', sep=',')\n",
    "df.head()"
   ]
  },
  {
   "cell_type": "code",
   "execution_count": 4,
   "metadata": {},
   "outputs": [
    {
     "name": "stdout",
     "output_type": "stream",
     "text": [
      "<class 'pandas.core.frame.DataFrame'>\n",
      "RangeIndex: 10000 entries, 0 to 9999\n",
      "Data columns (total 16 columns):\n",
      " #   Column                                  Non-Null Count  Dtype  \n",
      "---  ------                                  --------------  -----  \n",
      " 0   svcscan.fs_drivers                      10000 non-null  int64  \n",
      " 1   callbacks.ngeneric                      10000 non-null  int64  \n",
      " 2   psxview.not_in_eprocess_pool_false_avg  10000 non-null  float64\n",
      " 3   psxview.not_in_eprocess_pool            10000 non-null  int64  \n",
      " 4   callbacks.nanonymous                    10000 non-null  int64  \n",
      " 5   psxview.not_in_session                  10000 non-null  int64  \n",
      " 6   psxview.not_in_pslist                   10000 non-null  int64  \n",
      " 7   psxview.not_in_pspcid_list              10000 non-null  int64  \n",
      " 8   psxview.not_in_ethread_pool             10000 non-null  int64  \n",
      " 9   psxview.not_in_csrss_handles            10000 non-null  int64  \n",
      " 10  psxview.not_in_pslist_false_avg         10000 non-null  float64\n",
      " 11  psxview.not_in_pspcid_list_false_avg    10000 non-null  float64\n",
      " 12  psxview.not_in_deskthrd                 10000 non-null  int64  \n",
      " 13  psxview.not_in_ethread_pool_false_avg   10000 non-null  float64\n",
      " 14  psxview.not_in_session_false_avg        10000 non-null  float64\n",
      " 15  Class                                   10000 non-null  int64  \n",
      "dtypes: float64(5), int64(11)\n",
      "memory usage: 1.2 MB\n"
     ]
    }
   ],
   "source": [
    "df.info()"
   ]
  },
  {
   "cell_type": "code",
   "execution_count": 5,
   "metadata": {},
   "outputs": [
    {
     "data": {
      "text/plain": [
       "(10000, 16)"
      ]
     },
     "execution_count": 5,
     "metadata": {},
     "output_type": "execute_result"
    }
   ],
   "source": [
    "df.shape"
   ]
  },
  {
   "cell_type": "markdown",
   "metadata": {},
   "source": [
    "# 2 Подготовка данных к обучению"
   ]
  },
  {
   "cell_type": "markdown",
   "metadata": {},
   "source": [
    "Разделим датасет на обучающую, валидационную и тестовую выборку со стратификацией. Целевая переменная — `air_quality`"
   ]
  },
  {
   "cell_type": "code",
   "execution_count": 6,
   "metadata": {},
   "outputs": [
    {
     "name": "stdout",
     "output_type": "stream",
     "text": [
      "Входное количество (100.0%): 10000\n",
      "Тренировачный размер (60.0%): 6000\n",
      "Валидационный размер (20.0%): 2000\n",
      "Тестовый размер (20.0%): 2000\n"
     ]
    }
   ],
   "source": [
    "# Размеры выборок\n",
    "train_size = 0.6\n",
    "val_size = 0.2\n",
    "test_size = 0.2\n",
    "\n",
    "# Разделение признаков и целевой переменной\n",
    "X = df.drop(columns=['Class'])\n",
    "y = df['Class']\n",
    "\n",
    "# Разбивка\n",
    "X_train, X_temp, y_train, y_temp = train_test_split(X, y, train_size=train_size, random_state=42, stratify=y)\n",
    "X_val, X_test, y_val, y_test = train_test_split(X_temp, y_temp, test_size=(test_size / (test_size + val_size)), random_state=42, stratify=y_temp)\n",
    "\n",
    "# Выведем результат\n",
    "print(f'Входное количество ({1.0*100}%): {df.shape[0]}')\n",
    "print(f'Тренировачный размер ({train_size*100}%): {X_train.shape[0]}')\n",
    "print(f'Валидационный размер ({val_size*100}%): {X_val.shape[0]}')\n",
    "print(f'Тестовый размер ({test_size*100}%): {X_test.shape[0]}')"
   ]
  },
  {
   "cell_type": "markdown",
   "metadata": {},
   "source": [
    "Стандартизируем признаки"
   ]
  },
  {
   "cell_type": "code",
   "execution_count": 8,
   "metadata": {},
   "outputs": [],
   "source": [
    "# Инициализируем StandardScaler\n",
    "scaler = StandardScaler()\n",
    "\n",
    "# Обучаем на обучающей выборке и применяем к обучающим данным\n",
    "X_train_scaled = scaler.fit_transform(X_train)\n",
    "\n",
    "# Применяем тот же scaler к валидационным и тестовым данным\n",
    "X_val_scaled = scaler.transform(X_val)\n",
    "X_test_scaled = scaler.transform(X_test)"
   ]
  },
  {
   "cell_type": "markdown",
   "metadata": {},
   "source": [
    "Создадим свой `Dateset`"
   ]
  },
  {
   "cell_type": "code",
   "execution_count": 9,
   "metadata": {},
   "outputs": [],
   "source": [
    "class CustomDataset(Dataset):\n",
    "    def __init__(self, X, y): \n",
    "        \"\"\"Преобразование из DataFrames в Tensors\"\"\"\n",
    "        self.X = torch.Tensor(X.values)\n",
    "        self.y = torch.from_numpy(y.values).reshape(-1, 1).float()\n",
    "    \n",
    "    def __len__(self):\n",
    "        \"\"\"Возвращает длину тензора\"\"\"\n",
    "        return self.X.shape[0]\n",
    "    \n",
    "    def __getitem__(self, index):\n",
    "        \"\"\"Возвращает 1 строку данных признаки-таргет\"\"\"\n",
    "        return (self.X[index], self.y[index])"
   ]
  },
  {
   "cell_type": "markdown",
   "metadata": {},
   "source": [
    "Инициализируем датасеты"
   ]
  },
  {
   "cell_type": "code",
   "execution_count": 10,
   "metadata": {},
   "outputs": [],
   "source": [
    "train_dataset = CustomDataset(X_train, y_train)\n",
    "val_dataset = CustomDataset(X_val, y_val)\n",
    "test_dataset = CustomDataset(X_test, y_test)"
   ]
  },
  {
   "cell_type": "markdown",
   "metadata": {},
   "source": [
    "Инициализируем `DataLoader`'s. Пока примем `batch_size` за 32"
   ]
  },
  {
   "cell_type": "code",
   "execution_count": 11,
   "metadata": {},
   "outputs": [],
   "source": [
    "train_dataloader = DataLoader(train_dataset, batch_size=32, shuffle=True)\n",
    "val_dataloader = DataLoader(val_dataset, batch_size=32, shuffle=False)\n",
    "val_dataloader = DataLoader(test_dataset, batch_size=32, shuffle=False)"
   ]
  },
  {
   "cell_type": "markdown",
   "metadata": {},
   "source": [
    "# 3 BaselineModel MLP"
   ]
  },
  {
   "cell_type": "markdown",
   "metadata": {},
   "source": [
    "Создадим BaselineModel"
   ]
  },
  {
   "cell_type": "code",
   "execution_count": 15,
   "metadata": {},
   "outputs": [],
   "source": [
    "class BaselineModel(nn.Module):\n",
    "    def __init__(self, inputs_size, hidden_size, out_size, hidden_count):\n",
    "        super(BaselineModel, self).__init__()\n",
    "        self.linear_in = nn.Linear(inputs_size, hidden_size)\n",
    "        self.linear_hiddens = nn.ModuleList()\n",
    "        for _ in range(hidden_count):\n",
    "            self.linear_hiddens.append(nn.Linear(hidden_size, hidden_size))\n",
    "        self.linear_out = nn.Linear(hidden_size, out_size)\n",
    "\n",
    "    def forward(self, x):\n",
    "        x = self.linear_in(x)\n",
    "        x = torch.relu(x)\n",
    "        for linear_hidden in self.linear_hiddens:\n",
    "            x = linear_hidden(x)\n",
    "            x = torch.relu(x)\n",
    "        x = self.linear_out(x)\n",
    "        y_pred = torch.sigmoid(x)\n",
    "        return y_pred"
   ]
  },
  {
   "cell_type": "markdown",
   "metadata": {},
   "source": [
    "Зададим метод переброса на доступный device"
   ]
  },
  {
   "cell_type": "code",
   "execution_count": 13,
   "metadata": {},
   "outputs": [],
   "source": [
    "device = torch.device(\"cuda:0\" if torch.cuda.is_available() else \"cpu\")"
   ]
  },
  {
   "cell_type": "markdown",
   "metadata": {},
   "source": [
    "Создадим объект модели"
   ]
  },
  {
   "cell_type": "code",
   "execution_count": 28,
   "metadata": {},
   "outputs": [
    {
     "data": {
      "text/plain": [
       "BaselineModel(\n",
       "  (linear_in): Linear(in_features=15, out_features=200, bias=True)\n",
       "  (linear_hiddens): ModuleList(\n",
       "    (0-3): 4 x Linear(in_features=200, out_features=200, bias=True)\n",
       "  )\n",
       "  (linear_out): Linear(in_features=200, out_features=1, bias=True)\n",
       ")"
      ]
     },
     "execution_count": 28,
     "metadata": {},
     "output_type": "execute_result"
    }
   ],
   "source": [
    "model = BaselineModel(inputs_size=15, hidden_size=200, out_size=1, hidden_count=4)\n",
    "model.to(device)"
   ]
  },
  {
   "cell_type": "markdown",
   "metadata": {},
   "source": [
    "# 4 Метод обучения"
   ]
  },
  {
   "cell_type": "code",
   "execution_count": 17,
   "metadata": {},
   "outputs": [],
   "source": [
    "def train_loop(model, train_dataloader, val_dataloader, epochs=10, lr=0.001):\n",
    "    model.to(device)\n",
    "    criterion = nn.BCELoss()\n",
    "    optimizer = optim.SGD(model.parameters(), lr=lr)\n",
    "    for epoch in range(epochs):\n",
    "        model.train()\n",
    "        train_loss = 0.0\n",
    "\n",
    "        # Обучающая часть цикла\n",
    "        for batch in (tqdm(train_dataloader, desc=f'Epoch {epoch+1}/{epochs} [Training]') \n",
    "                      if ((epoch+1) % 100 == 0 or epoch == 0) else train_dataloader):\n",
    "            X_batch, y_batch = batch\n",
    "            X_batch, y_batch = X_batch.to(device), y_batch.to(device)\n",
    "            optimizer.zero_grad()  # Обнуляем градиенты\n",
    "            y_pred = model(X_batch)  # Предсказание модели\n",
    "            loss = criterion(y_pred, y_batch)  # Вычисляем ошибку\n",
    "            loss.backward()  # Обратное распространение ошибки\n",
    "            optimizer.step()  # Шаг оптимизации\n",
    "            train_loss += loss.item() * X_batch.size(0)  # Учитываем потерю для этой мини-партии\n",
    "        train_loss /= len(train_dataloader.dataset)  # Средняя ошибка по всему набору\n",
    "        \n",
    "        # Валидационная часть цикла\n",
    "        model.eval()\n",
    "        val_loss = 0.0\n",
    "        with torch.no_grad():\n",
    "            for batch in (tqdm(val_dataloader, desc=f'Epoch {epoch+1}/{epochs} [Training]') \n",
    "                          if ((epoch+1) % 100 == 0 or epoch == 0) else val_dataloader):\n",
    "                X_batch, y_batch = batch\n",
    "                X_batch, y_batch = X_batch.to(device), y_batch.to(device)\n",
    "                y_pred = model(X_batch)  # Предсказание модели\n",
    "                loss = criterion(y_pred, y_batch)  # Вычисляем ошибку\n",
    "                val_loss += loss.item() * X_batch.size(0)  # Учитываем потерю для этой мини-партии\n",
    "        val_loss /= len(val_dataloader.dataset)  # Средняя ошибка по всему набору\n",
    "        if (epoch+1) % 100 == 0  or epoch == 0:\n",
    "            print(f'Epoch [{epoch+1}/{epochs}] - Train Loss: {train_loss:.4f} - Val Loss: {val_loss:.4f}')\n",
    "    print('Обучение завершено!')"
   ]
  },
  {
   "cell_type": "markdown",
   "metadata": {},
   "source": [
    "# 5 Обучение и качество BaselineModel"
   ]
  },
  {
   "cell_type": "code",
   "execution_count": 29,
   "metadata": {},
   "outputs": [
    {
     "data": {
      "application/vnd.jupyter.widget-view+json": {
       "model_id": "05d5da50e212412893533d904c4a0fcb",
       "version_major": 2,
       "version_minor": 0
      },
      "text/plain": [
       "Epoch 1/200 [Training]:   0%|          | 0/188 [00:00<?, ?it/s]"
      ]
     },
     "metadata": {},
     "output_type": "display_data"
    },
    {
     "data": {
      "application/vnd.jupyter.widget-view+json": {
       "model_id": "1787e316ff4048d693345bce6ada51f9",
       "version_major": 2,
       "version_minor": 0
      },
      "text/plain": [
       "Epoch 1/200 [Training]:   0%|          | 0/63 [00:00<?, ?it/s]"
      ]
     },
     "metadata": {},
     "output_type": "display_data"
    },
    {
     "name": "stdout",
     "output_type": "stream",
     "text": [
      "Epoch [1/200] - Train Loss: 0.6925 - Val Loss: 0.6919\n"
     ]
    },
    {
     "data": {
      "application/vnd.jupyter.widget-view+json": {
       "model_id": "24e2240b711749b99107ecdc61e5751e",
       "version_major": 2,
       "version_minor": 0
      },
      "text/plain": [
       "Epoch 100/200 [Training]:   0%|          | 0/188 [00:00<?, ?it/s]"
      ]
     },
     "metadata": {},
     "output_type": "display_data"
    },
    {
     "data": {
      "application/vnd.jupyter.widget-view+json": {
       "model_id": "a313c256fe6645fab03f6d8cbf471cfa",
       "version_major": 2,
       "version_minor": 0
      },
      "text/plain": [
       "Epoch 100/200 [Training]:   0%|          | 0/63 [00:00<?, ?it/s]"
      ]
     },
     "metadata": {},
     "output_type": "display_data"
    },
    {
     "name": "stdout",
     "output_type": "stream",
     "text": [
      "Epoch [100/200] - Train Loss: 0.6434 - Val Loss: 0.6419\n"
     ]
    },
    {
     "data": {
      "application/vnd.jupyter.widget-view+json": {
       "model_id": "1043b1fe36b94b389ccc8f58c8158015",
       "version_major": 2,
       "version_minor": 0
      },
      "text/plain": [
       "Epoch 200/200 [Training]:   0%|          | 0/188 [00:00<?, ?it/s]"
      ]
     },
     "metadata": {},
     "output_type": "display_data"
    },
    {
     "data": {
      "application/vnd.jupyter.widget-view+json": {
       "model_id": "b8dc45a679bc4ea29af491188ef53147",
       "version_major": 2,
       "version_minor": 0
      },
      "text/plain": [
       "Epoch 200/200 [Training]:   0%|          | 0/63 [00:00<?, ?it/s]"
      ]
     },
     "metadata": {},
     "output_type": "display_data"
    },
    {
     "name": "stdout",
     "output_type": "stream",
     "text": [
      "Epoch [200/200] - Train Loss: 0.6273 - Val Loss: 0.6246\n",
      "Обучение завершено!\n",
      "CPU times: total: 9.72 s\n",
      "Wall time: 1min 21s\n"
     ]
    }
   ],
   "source": [
    "%%time\n",
    "train_loop(model, train_dataloader, val_dataloader, 200, 0.001)"
   ]
  },
  {
   "cell_type": "code",
   "execution_count": 32,
   "metadata": {},
   "outputs": [],
   "source": [
    "def evaluate_model(model, test_dataloader, threshold=0.5):\n",
    "    model.to(device)\n",
    "    model.eval()\n",
    "    all_preds = []  # Для хранения всех предсказанных меток\n",
    "    all_labels = []  # Для хранения всех истинных меток\n",
    "    with torch.no_grad():\n",
    "        for batch in test_dataloader:\n",
    "            X_batch, y_batch = batch\n",
    "            X_batch, y_batch = X_batch.to(device), y_batch.to(device)\n",
    "            y_pred_probs = model(X_batch)  \n",
    "            y_pred_labels = (y_pred_probs >= threshold).float()\n",
    "            all_preds.extend(y_pred_labels.cpu().numpy().flatten())\n",
    "            all_labels.extend(y_batch.cpu().numpy().flatten())\n",
    "    report = classification_report(all_labels, all_preds, target_names=['class 0', 'class 1'])\n",
    "    print(Counter(all_preds))\n",
    "    print(\"\\nClassification Report:\\n\")\n",
    "    print(report)"
   ]
  },
  {
   "cell_type": "code",
   "execution_count": 33,
   "metadata": {},
   "outputs": [
    {
     "name": "stdout",
     "output_type": "stream",
     "text": [
      "Counter({np.float32(0.0): 1088, np.float32(1.0): 912})\n",
      "\n",
      "Classification Report:\n",
      "\n",
      "              precision    recall  f1-score   support\n",
      "\n",
      "     class 0       0.62      0.68      0.65       981\n",
      "     class 1       0.66      0.59      0.62      1019\n",
      "\n",
      "    accuracy                           0.64      2000\n",
      "   macro avg       0.64      0.64      0.64      2000\n",
      "weighted avg       0.64      0.64      0.63      2000\n",
      "\n"
     ]
    }
   ],
   "source": [
    "evaluate_model(model, val_dataloader)"
   ]
  },
  {
   "cell_type": "markdown",
   "metadata": {},
   "source": [
    "# 6 Улучшенная модель"
   ]
  },
  {
   "cell_type": "markdown",
   "metadata": {},
   "source": [
    "Соберём новую модель с Dropout и Batchnorm"
   ]
  },
  {
   "cell_type": "code",
   "execution_count": 36,
   "metadata": {},
   "outputs": [],
   "source": [
    "class BaselineModelUpgrade(nn.Module):\n",
    "    def __init__(self, inputs_size, hidden_size, out_size, hidden_count, dropout_p=0.5):\n",
    "        super(BaselineModelUpgrade, self).__init__()\n",
    "        self.linear_in = nn.Linear(inputs_size, hidden_size)\n",
    "        self.batchnorm_in = nn.BatchNorm1d(hidden_size)  # BatchNorm после первого линейного слоя\n",
    "        self.dropout_in = nn.Dropout(dropout_p)  # Dropout после BatchNorm\n",
    "\n",
    "        self.linear_hiddens = nn.ModuleList()\n",
    "        self.batchnorm_hiddens = nn.ModuleList()\n",
    "        self.dropout_hiddens = nn.ModuleList()\n",
    "\n",
    "        for _ in range(hidden_count):\n",
    "            self.linear_hiddens.append(nn.Linear(hidden_size, hidden_size))\n",
    "            self.batchnorm_hiddens.append(nn.BatchNorm1d(hidden_size))\n",
    "            self.dropout_hiddens.append(nn.Dropout(dropout_p))\n",
    "            \n",
    "        self.linear_out = nn.Linear(hidden_size, out_size)\n",
    "\n",
    "    def forward(self, x):\n",
    "        x = self.linear_in(x)\n",
    "        x = self.batchnorm_in(x)\n",
    "        x = torch.relu(x)\n",
    "        x = self.dropout_in(x)\n",
    "        for linear_hidden, batchnorm_hidden, dropout_hidden in zip(self.linear_hiddens, self.batchnorm_hiddens, self.dropout_hiddens):\n",
    "            x = linear_hidden(x)\n",
    "            x = batchnorm_hidden(x)\n",
    "            x = torch.relu(x)\n",
    "            x = dropout_hidden(x)\n",
    "        x = self.linear_out(x)\n",
    "        y_pred = torch.sigmoid(x)\n",
    "        return y_pred"
   ]
  },
  {
   "cell_type": "markdown",
   "metadata": {},
   "source": [
    "Инициализируем новую модель"
   ]
  },
  {
   "cell_type": "code",
   "execution_count": 37,
   "metadata": {},
   "outputs": [
    {
     "data": {
      "text/plain": [
       "BaselineModelUpgrade(\n",
       "  (linear_in): Linear(in_features=15, out_features=200, bias=True)\n",
       "  (batchnorm_in): BatchNorm1d(200, eps=1e-05, momentum=0.1, affine=True, track_running_stats=True)\n",
       "  (dropout_in): Dropout(p=0.5, inplace=False)\n",
       "  (linear_hiddens): ModuleList(\n",
       "    (0-3): 4 x Linear(in_features=200, out_features=200, bias=True)\n",
       "  )\n",
       "  (batchnorm_hiddens): ModuleList(\n",
       "    (0-3): 4 x BatchNorm1d(200, eps=1e-05, momentum=0.1, affine=True, track_running_stats=True)\n",
       "  )\n",
       "  (dropout_hiddens): ModuleList(\n",
       "    (0-3): 4 x Dropout(p=0.5, inplace=False)\n",
       "  )\n",
       "  (linear_out): Linear(in_features=200, out_features=1, bias=True)\n",
       ")"
      ]
     },
     "execution_count": 37,
     "metadata": {},
     "output_type": "execute_result"
    }
   ],
   "source": [
    "model_upgrade = BaselineModelUpgrade(inputs_size=15, hidden_size=200, out_size=1, hidden_count=4)\n",
    "model_upgrade.to(device)"
   ]
  },
  {
   "cell_type": "markdown",
   "metadata": {},
   "source": [
    "Обучим новую модель"
   ]
  },
  {
   "cell_type": "code",
   "execution_count": 39,
   "metadata": {},
   "outputs": [
    {
     "data": {
      "application/vnd.jupyter.widget-view+json": {
       "model_id": "427de98014b14af0b9ac8dac779459a4",
       "version_major": 2,
       "version_minor": 0
      },
      "text/plain": [
       "Epoch 1/200 [Training]:   0%|          | 0/188 [00:00<?, ?it/s]"
      ]
     },
     "metadata": {},
     "output_type": "display_data"
    },
    {
     "data": {
      "application/vnd.jupyter.widget-view+json": {
       "model_id": "d6a1daa40b5c4be3a9f313333045dcd4",
       "version_major": 2,
       "version_minor": 0
      },
      "text/plain": [
       "Epoch 1/200 [Training]:   0%|          | 0/63 [00:00<?, ?it/s]"
      ]
     },
     "metadata": {},
     "output_type": "display_data"
    },
    {
     "name": "stdout",
     "output_type": "stream",
     "text": [
      "Epoch [1/200] - Train Loss: 0.7270 - Val Loss: 0.6958\n"
     ]
    },
    {
     "data": {
      "application/vnd.jupyter.widget-view+json": {
       "model_id": "ac31d247bad046f2a622c725f1929376",
       "version_major": 2,
       "version_minor": 0
      },
      "text/plain": [
       "Epoch 100/200 [Training]:   0%|          | 0/188 [00:00<?, ?it/s]"
      ]
     },
     "metadata": {},
     "output_type": "display_data"
    },
    {
     "data": {
      "application/vnd.jupyter.widget-view+json": {
       "model_id": "9282ce19e6da4eb084a5e56ff49e9973",
       "version_major": 2,
       "version_minor": 0
      },
      "text/plain": [
       "Epoch 100/200 [Training]:   0%|          | 0/63 [00:00<?, ?it/s]"
      ]
     },
     "metadata": {},
     "output_type": "display_data"
    },
    {
     "name": "stdout",
     "output_type": "stream",
     "text": [
      "Epoch [100/200] - Train Loss: 0.6699 - Val Loss: 0.6697\n"
     ]
    },
    {
     "data": {
      "application/vnd.jupyter.widget-view+json": {
       "model_id": "9c04e00aa34043c8a4173ed1ec6528c1",
       "version_major": 2,
       "version_minor": 0
      },
      "text/plain": [
       "Epoch 200/200 [Training]:   0%|          | 0/188 [00:00<?, ?it/s]"
      ]
     },
     "metadata": {},
     "output_type": "display_data"
    },
    {
     "data": {
      "application/vnd.jupyter.widget-view+json": {
       "model_id": "30b561fe0f9c40049588da9a8dcaf7cd",
       "version_major": 2,
       "version_minor": 0
      },
      "text/plain": [
       "Epoch 200/200 [Training]:   0%|          | 0/63 [00:00<?, ?it/s]"
      ]
     },
     "metadata": {},
     "output_type": "display_data"
    },
    {
     "name": "stdout",
     "output_type": "stream",
     "text": [
      "Epoch [200/200] - Train Loss: 0.6606 - Val Loss: 0.6551\n",
      "Обучение завершено!\n",
      "CPU times: total: 23.2 s\n",
      "Wall time: 2min 54s\n"
     ]
    }
   ],
   "source": [
    "%%time\n",
    "train_loop(model_upgrade, train_dataloader, val_dataloader, 200, 0.001)"
   ]
  },
  {
   "cell_type": "markdown",
   "metadata": {},
   "source": [
    "Проверим качество новой модели"
   ]
  },
  {
   "cell_type": "code",
   "execution_count": 40,
   "metadata": {},
   "outputs": [
    {
     "name": "stdout",
     "output_type": "stream",
     "text": [
      "Counter({np.float32(0.0): 1011, np.float32(1.0): 989})\n",
      "\n",
      "Classification Report:\n",
      "\n",
      "              precision    recall  f1-score   support\n",
      "\n",
      "     class 0       0.59      0.61      0.60       981\n",
      "     class 1       0.61      0.59      0.60      1019\n",
      "\n",
      "    accuracy                           0.60      2000\n",
      "   macro avg       0.60      0.60      0.60      2000\n",
      "weighted avg       0.60      0.60      0.60      2000\n",
      "\n"
     ]
    }
   ],
   "source": [
    "evaluate_model(model_upgrade, val_dataloader)"
   ]
  },
  {
   "cell_type": "markdown",
   "metadata": {},
   "source": [
    "Заметим, что f1-score стал поменьше"
   ]
  },
  {
   "cell_type": "markdown",
   "metadata": {},
   "source": [
    "## Эксперименты с параметром p"
   ]
  },
  {
   "cell_type": "markdown",
   "metadata": {},
   "source": [
    "Поробуем изменить параметр p"
   ]
  },
  {
   "cell_type": "code",
   "execution_count": 41,
   "metadata": {},
   "outputs": [
    {
     "name": "stdout",
     "output_type": "stream",
     "text": [
      "Проверяем с p=0.1\n"
     ]
    },
    {
     "data": {
      "application/vnd.jupyter.widget-view+json": {
       "model_id": "ad600ae2f5c04fe5ab9c8dae7d01cee4",
       "version_major": 2,
       "version_minor": 0
      },
      "text/plain": [
       "Epoch 1/200 [Training]:   0%|          | 0/188 [00:00<?, ?it/s]"
      ]
     },
     "metadata": {},
     "output_type": "display_data"
    },
    {
     "data": {
      "application/vnd.jupyter.widget-view+json": {
       "model_id": "5650cb337cf94f90a83a015e52046516",
       "version_major": 2,
       "version_minor": 0
      },
      "text/plain": [
       "Epoch 1/200 [Training]:   0%|          | 0/63 [00:00<?, ?it/s]"
      ]
     },
     "metadata": {},
     "output_type": "display_data"
    },
    {
     "name": "stdout",
     "output_type": "stream",
     "text": [
      "Epoch [1/200] - Train Loss: 0.6932 - Val Loss: 0.6706\n"
     ]
    },
    {
     "data": {
      "application/vnd.jupyter.widget-view+json": {
       "model_id": "1a25e8dd29894b7b8ac86d74d427846f",
       "version_major": 2,
       "version_minor": 0
      },
      "text/plain": [
       "Epoch 100/200 [Training]:   0%|          | 0/188 [00:00<?, ?it/s]"
      ]
     },
     "metadata": {},
     "output_type": "display_data"
    },
    {
     "data": {
      "application/vnd.jupyter.widget-view+json": {
       "model_id": "186ad97116ec402780ad0b6da169571f",
       "version_major": 2,
       "version_minor": 0
      },
      "text/plain": [
       "Epoch 100/200 [Training]:   0%|          | 0/63 [00:00<?, ?it/s]"
      ]
     },
     "metadata": {},
     "output_type": "display_data"
    },
    {
     "name": "stdout",
     "output_type": "stream",
     "text": [
      "Epoch [100/200] - Train Loss: 0.6198 - Val Loss: 0.6077\n"
     ]
    },
    {
     "data": {
      "application/vnd.jupyter.widget-view+json": {
       "model_id": "ff8e0c091e974773bc5e7e09f13d985f",
       "version_major": 2,
       "version_minor": 0
      },
      "text/plain": [
       "Epoch 200/200 [Training]:   0%|          | 0/188 [00:00<?, ?it/s]"
      ]
     },
     "metadata": {},
     "output_type": "display_data"
    },
    {
     "data": {
      "application/vnd.jupyter.widget-view+json": {
       "model_id": "c41b869d4863412280e370b5051e3031",
       "version_major": 2,
       "version_minor": 0
      },
      "text/plain": [
       "Epoch 200/200 [Training]:   0%|          | 0/63 [00:00<?, ?it/s]"
      ]
     },
     "metadata": {},
     "output_type": "display_data"
    },
    {
     "name": "stdout",
     "output_type": "stream",
     "text": [
      "Epoch [200/200] - Train Loss: 0.6113 - Val Loss: 0.6313\n",
      "Обучение завершено!\n",
      "Counter({np.float32(0.0): 1007, np.float32(1.0): 993})\n",
      "\n",
      "Classification Report:\n",
      "\n",
      "              precision    recall  f1-score   support\n",
      "\n",
      "     class 0       0.65      0.67      0.66       981\n",
      "     class 1       0.67      0.66      0.66      1019\n",
      "\n",
      "    accuracy                           0.66      2000\n",
      "   macro avg       0.66      0.66      0.66      2000\n",
      "weighted avg       0.66      0.66      0.66      2000\n",
      "\n",
      "Проверяем с p=0.3\n"
     ]
    },
    {
     "data": {
      "application/vnd.jupyter.widget-view+json": {
       "model_id": "36c32ac10005473b96c8addb70f4ff6d",
       "version_major": 2,
       "version_minor": 0
      },
      "text/plain": [
       "Epoch 1/200 [Training]:   0%|          | 0/188 [00:00<?, ?it/s]"
      ]
     },
     "metadata": {},
     "output_type": "display_data"
    },
    {
     "data": {
      "application/vnd.jupyter.widget-view+json": {
       "model_id": "739d2915548548168c98827d87ae2a75",
       "version_major": 2,
       "version_minor": 0
      },
      "text/plain": [
       "Epoch 1/200 [Training]:   0%|          | 0/63 [00:00<?, ?it/s]"
      ]
     },
     "metadata": {},
     "output_type": "display_data"
    },
    {
     "name": "stdout",
     "output_type": "stream",
     "text": [
      "Epoch [1/200] - Train Loss: 0.7094 - Val Loss: 0.6868\n"
     ]
    },
    {
     "data": {
      "application/vnd.jupyter.widget-view+json": {
       "model_id": "225efd04a58747438076574969020414",
       "version_major": 2,
       "version_minor": 0
      },
      "text/plain": [
       "Epoch 100/200 [Training]:   0%|          | 0/188 [00:00<?, ?it/s]"
      ]
     },
     "metadata": {},
     "output_type": "display_data"
    },
    {
     "data": {
      "application/vnd.jupyter.widget-view+json": {
       "model_id": "82b01183553c4943bf64d4ef994573b8",
       "version_major": 2,
       "version_minor": 0
      },
      "text/plain": [
       "Epoch 100/200 [Training]:   0%|          | 0/63 [00:00<?, ?it/s]"
      ]
     },
     "metadata": {},
     "output_type": "display_data"
    },
    {
     "name": "stdout",
     "output_type": "stream",
     "text": [
      "Epoch [100/200] - Train Loss: 0.6465 - Val Loss: 0.6306\n"
     ]
    },
    {
     "data": {
      "application/vnd.jupyter.widget-view+json": {
       "model_id": "c9c6b67bb4f948dd95cda7f6c1550e40",
       "version_major": 2,
       "version_minor": 0
      },
      "text/plain": [
       "Epoch 200/200 [Training]:   0%|          | 0/188 [00:00<?, ?it/s]"
      ]
     },
     "metadata": {},
     "output_type": "display_data"
    },
    {
     "data": {
      "application/vnd.jupyter.widget-view+json": {
       "model_id": "3262e8a555ac4633bc98f827de69c854",
       "version_major": 2,
       "version_minor": 0
      },
      "text/plain": [
       "Epoch 200/200 [Training]:   0%|          | 0/63 [00:00<?, ?it/s]"
      ]
     },
     "metadata": {},
     "output_type": "display_data"
    },
    {
     "name": "stdout",
     "output_type": "stream",
     "text": [
      "Epoch [200/200] - Train Loss: 0.6361 - Val Loss: 0.6292\n",
      "Обучение завершено!\n",
      "Counter({np.float32(0.0): 1121, np.float32(1.0): 879})\n",
      "\n",
      "Classification Report:\n",
      "\n",
      "              precision    recall  f1-score   support\n",
      "\n",
      "     class 0       0.62      0.70      0.66       981\n",
      "     class 1       0.67      0.58      0.62      1019\n",
      "\n",
      "    accuracy                           0.64      2000\n",
      "   macro avg       0.64      0.64      0.64      2000\n",
      "weighted avg       0.64      0.64      0.64      2000\n",
      "\n",
      "Проверяем с p=0.5\n"
     ]
    },
    {
     "data": {
      "application/vnd.jupyter.widget-view+json": {
       "model_id": "737c232f20aa45b6a642488d47d706cd",
       "version_major": 2,
       "version_minor": 0
      },
      "text/plain": [
       "Epoch 1/200 [Training]:   0%|          | 0/188 [00:00<?, ?it/s]"
      ]
     },
     "metadata": {},
     "output_type": "display_data"
    },
    {
     "data": {
      "application/vnd.jupyter.widget-view+json": {
       "model_id": "c53f2eb2000f4594802d034089cd1aa4",
       "version_major": 2,
       "version_minor": 0
      },
      "text/plain": [
       "Epoch 1/200 [Training]:   0%|          | 0/63 [00:00<?, ?it/s]"
      ]
     },
     "metadata": {},
     "output_type": "display_data"
    },
    {
     "name": "stdout",
     "output_type": "stream",
     "text": [
      "Epoch [1/200] - Train Loss: 0.7254 - Val Loss: 0.6923\n"
     ]
    },
    {
     "data": {
      "application/vnd.jupyter.widget-view+json": {
       "model_id": "116083bf26cd4bef9aaf959f8bfe7167",
       "version_major": 2,
       "version_minor": 0
      },
      "text/plain": [
       "Epoch 100/200 [Training]:   0%|          | 0/188 [00:00<?, ?it/s]"
      ]
     },
     "metadata": {},
     "output_type": "display_data"
    },
    {
     "data": {
      "application/vnd.jupyter.widget-view+json": {
       "model_id": "295aa6e4fb504ab08d40f87d95c95e93",
       "version_major": 2,
       "version_minor": 0
      },
      "text/plain": [
       "Epoch 100/200 [Training]:   0%|          | 0/63 [00:00<?, ?it/s]"
      ]
     },
     "metadata": {},
     "output_type": "display_data"
    },
    {
     "name": "stdout",
     "output_type": "stream",
     "text": [
      "Epoch [100/200] - Train Loss: 0.6674 - Val Loss: 0.6709\n"
     ]
    },
    {
     "data": {
      "application/vnd.jupyter.widget-view+json": {
       "model_id": "8271fca8c3a44d20a788bb3f57a698ec",
       "version_major": 2,
       "version_minor": 0
      },
      "text/plain": [
       "Epoch 200/200 [Training]:   0%|          | 0/188 [00:00<?, ?it/s]"
      ]
     },
     "metadata": {},
     "output_type": "display_data"
    },
    {
     "data": {
      "application/vnd.jupyter.widget-view+json": {
       "model_id": "e8366956ffef4e9ba75ddd62ff21ee41",
       "version_major": 2,
       "version_minor": 0
      },
      "text/plain": [
       "Epoch 200/200 [Training]:   0%|          | 0/63 [00:00<?, ?it/s]"
      ]
     },
     "metadata": {},
     "output_type": "display_data"
    },
    {
     "name": "stdout",
     "output_type": "stream",
     "text": [
      "Epoch [200/200] - Train Loss: 0.6570 - Val Loss: 0.6565\n",
      "Обучение завершено!\n",
      "Counter({np.float32(0.0): 1205, np.float32(1.0): 795})\n",
      "\n",
      "Classification Report:\n",
      "\n",
      "              precision    recall  f1-score   support\n",
      "\n",
      "     class 0       0.58      0.71      0.63       981\n",
      "     class 1       0.64      0.50      0.56      1019\n",
      "\n",
      "    accuracy                           0.60      2000\n",
      "   macro avg       0.61      0.60      0.60      2000\n",
      "weighted avg       0.61      0.60      0.60      2000\n",
      "\n",
      "Проверяем с p=0.7\n"
     ]
    },
    {
     "data": {
      "application/vnd.jupyter.widget-view+json": {
       "model_id": "936b7350eb1f4cf0a9e0d4c20149a701",
       "version_major": 2,
       "version_minor": 0
      },
      "text/plain": [
       "Epoch 1/200 [Training]:   0%|          | 0/188 [00:00<?, ?it/s]"
      ]
     },
     "metadata": {},
     "output_type": "display_data"
    },
    {
     "data": {
      "application/vnd.jupyter.widget-view+json": {
       "model_id": "3648a70160594f0a8ab1446d5e6b7d84",
       "version_major": 2,
       "version_minor": 0
      },
      "text/plain": [
       "Epoch 1/200 [Training]:   0%|          | 0/63 [00:00<?, ?it/s]"
      ]
     },
     "metadata": {},
     "output_type": "display_data"
    },
    {
     "name": "stdout",
     "output_type": "stream",
     "text": [
      "Epoch [1/200] - Train Loss: 0.7528 - Val Loss: 0.6932\n"
     ]
    },
    {
     "data": {
      "application/vnd.jupyter.widget-view+json": {
       "model_id": "2ef7cce35f1d45ee92edce0612d55b92",
       "version_major": 2,
       "version_minor": 0
      },
      "text/plain": [
       "Epoch 100/200 [Training]:   0%|          | 0/188 [00:00<?, ?it/s]"
      ]
     },
     "metadata": {},
     "output_type": "display_data"
    },
    {
     "data": {
      "application/vnd.jupyter.widget-view+json": {
       "model_id": "c9f4fa7a11b64eceb920014c659548b1",
       "version_major": 2,
       "version_minor": 0
      },
      "text/plain": [
       "Epoch 100/200 [Training]:   0%|          | 0/63 [00:00<?, ?it/s]"
      ]
     },
     "metadata": {},
     "output_type": "display_data"
    },
    {
     "name": "stdout",
     "output_type": "stream",
     "text": [
      "Epoch [100/200] - Train Loss: 0.6908 - Val Loss: 0.6956\n"
     ]
    },
    {
     "data": {
      "application/vnd.jupyter.widget-view+json": {
       "model_id": "5626770ced9849cba43e3abc65ae2bce",
       "version_major": 2,
       "version_minor": 0
      },
      "text/plain": [
       "Epoch 200/200 [Training]:   0%|          | 0/188 [00:00<?, ?it/s]"
      ]
     },
     "metadata": {},
     "output_type": "display_data"
    },
    {
     "data": {
      "application/vnd.jupyter.widget-view+json": {
       "model_id": "bf7d9f2c8d1042c8aa8047b4d1abd796",
       "version_major": 2,
       "version_minor": 0
      },
      "text/plain": [
       "Epoch 200/200 [Training]:   0%|          | 0/63 [00:00<?, ?it/s]"
      ]
     },
     "metadata": {},
     "output_type": "display_data"
    },
    {
     "name": "stdout",
     "output_type": "stream",
     "text": [
      "Epoch [200/200] - Train Loss: 0.6872 - Val Loss: 0.7035\n",
      "Обучение завершено!\n",
      "Counter({np.float32(1.0): 1997, np.float32(0.0): 3})\n",
      "\n",
      "Classification Report:\n",
      "\n",
      "              precision    recall  f1-score   support\n",
      "\n",
      "     class 0       0.00      0.00      0.00       981\n",
      "     class 1       0.51      1.00      0.67      1019\n",
      "\n",
      "    accuracy                           0.51      2000\n",
      "   macro avg       0.25      0.50      0.34      2000\n",
      "weighted avg       0.26      0.51      0.34      2000\n",
      "\n",
      "Проверяем с p=0.9\n"
     ]
    },
    {
     "data": {
      "application/vnd.jupyter.widget-view+json": {
       "model_id": "baecf8743f8f421d8aa757d641c63464",
       "version_major": 2,
       "version_minor": 0
      },
      "text/plain": [
       "Epoch 1/200 [Training]:   0%|          | 0/188 [00:00<?, ?it/s]"
      ]
     },
     "metadata": {},
     "output_type": "display_data"
    },
    {
     "data": {
      "application/vnd.jupyter.widget-view+json": {
       "model_id": "9b287bcc067a4a4192d37541793da9c1",
       "version_major": 2,
       "version_minor": 0
      },
      "text/plain": [
       "Epoch 1/200 [Training]:   0%|          | 0/63 [00:00<?, ?it/s]"
      ]
     },
     "metadata": {},
     "output_type": "display_data"
    },
    {
     "name": "stdout",
     "output_type": "stream",
     "text": [
      "Epoch [1/200] - Train Loss: 0.8328 - Val Loss: 0.6935\n"
     ]
    },
    {
     "data": {
      "application/vnd.jupyter.widget-view+json": {
       "model_id": "b98c27b426ef42ed9acdc0518acb45aa",
       "version_major": 2,
       "version_minor": 0
      },
      "text/plain": [
       "Epoch 100/200 [Training]:   0%|          | 0/188 [00:00<?, ?it/s]"
      ]
     },
     "metadata": {},
     "output_type": "display_data"
    },
    {
     "data": {
      "application/vnd.jupyter.widget-view+json": {
       "model_id": "18474a3a0642478dbea72c7a8f8559a0",
       "version_major": 2,
       "version_minor": 0
      },
      "text/plain": [
       "Epoch 100/200 [Training]:   0%|          | 0/63 [00:00<?, ?it/s]"
      ]
     },
     "metadata": {},
     "output_type": "display_data"
    },
    {
     "name": "stdout",
     "output_type": "stream",
     "text": [
      "Epoch [100/200] - Train Loss: 0.6949 - Val Loss: 0.6932\n"
     ]
    },
    {
     "data": {
      "application/vnd.jupyter.widget-view+json": {
       "model_id": "9eaf69a6d14e4a918f881c3fb530650a",
       "version_major": 2,
       "version_minor": 0
      },
      "text/plain": [
       "Epoch 200/200 [Training]:   0%|          | 0/188 [00:00<?, ?it/s]"
      ]
     },
     "metadata": {},
     "output_type": "display_data"
    },
    {
     "data": {
      "application/vnd.jupyter.widget-view+json": {
       "model_id": "849b06c713714b18aab6a6b46c0d8d0c",
       "version_major": 2,
       "version_minor": 0
      },
      "text/plain": [
       "Epoch 200/200 [Training]:   0%|          | 0/63 [00:00<?, ?it/s]"
      ]
     },
     "metadata": {},
     "output_type": "display_data"
    },
    {
     "name": "stdout",
     "output_type": "stream",
     "text": [
      "Epoch [200/200] - Train Loss: 0.6953 - Val Loss: 0.6937\n",
      "Обучение завершено!\n",
      "Counter({np.float32(1.0): 2000})\n",
      "\n",
      "Classification Report:\n",
      "\n",
      "              precision    recall  f1-score   support\n",
      "\n",
      "     class 0       0.00      0.00      0.00       981\n",
      "     class 1       0.51      1.00      0.68      1019\n",
      "\n",
      "    accuracy                           0.51      2000\n",
      "   macro avg       0.25      0.50      0.34      2000\n",
      "weighted avg       0.26      0.51      0.34      2000\n",
      "\n"
     ]
    },
    {
     "name": "stderr",
     "output_type": "stream",
     "text": [
      "d:\\Documents\\ITMO\\Semestr_1\\dl_course_2024\\.venv\\lib\\site-packages\\sklearn\\metrics\\_classification.py:1565: UndefinedMetricWarning: Precision is ill-defined and being set to 0.0 in labels with no predicted samples. Use `zero_division` parameter to control this behavior.\n",
      "  _warn_prf(average, modifier, f\"{metric.capitalize()} is\", len(result))\n",
      "d:\\Documents\\ITMO\\Semestr_1\\dl_course_2024\\.venv\\lib\\site-packages\\sklearn\\metrics\\_classification.py:1565: UndefinedMetricWarning: Precision is ill-defined and being set to 0.0 in labels with no predicted samples. Use `zero_division` parameter to control this behavior.\n",
      "  _warn_prf(average, modifier, f\"{metric.capitalize()} is\", len(result))\n",
      "d:\\Documents\\ITMO\\Semestr_1\\dl_course_2024\\.venv\\lib\\site-packages\\sklearn\\metrics\\_classification.py:1565: UndefinedMetricWarning: Precision is ill-defined and being set to 0.0 in labels with no predicted samples. Use `zero_division` parameter to control this behavior.\n",
      "  _warn_prf(average, modifier, f\"{metric.capitalize()} is\", len(result))\n"
     ]
    }
   ],
   "source": [
    "for p in [0.1, 0.3, 0.5, 0.7, 0.9]:\n",
    "    print(f'Проверяем с p={p}')\n",
    "    model_upgrade = BaselineModelUpgrade(inputs_size=15, hidden_size=200, out_size=1, hidden_count=4, dropout_p=p)\n",
    "    model_upgrade.to(device)\n",
    "    train_loop(model_upgrade, train_dataloader, val_dataloader, 200, 0.001)\n",
    "    evaluate_model(model_upgrade, val_dataloader)"
   ]
  },
  {
   "cell_type": "markdown",
   "metadata": {},
   "source": [
    "Видно, что с увеличением параметра `p` f1-score для `class 0` вовсе не считается. Делаем вывод, что для текущей задачи подходит небольшое значение `p`."
   ]
  }
 ],
 "metadata": {
  "kernelspec": {
   "display_name": ".venv",
   "language": "python",
   "name": "python3"
  },
  "language_info": {
   "codemirror_mode": {
    "name": "ipython",
    "version": 3
   },
   "file_extension": ".py",
   "mimetype": "text/x-python",
   "name": "python",
   "nbconvert_exporter": "python",
   "pygments_lexer": "ipython3",
   "version": "3.10.6"
  }
 },
 "nbformat": 4,
 "nbformat_minor": 2
}
