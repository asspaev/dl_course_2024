{
 "cells": [
  {
   "cell_type": "markdown",
   "metadata": {},
   "source": [
    "# Импорты"
   ]
  },
  {
   "cell_type": "code",
   "execution_count": 1,
   "metadata": {},
   "outputs": [],
   "source": [
    "import os\n",
    "import random\n",
    "import numpy as np\n",
    "import pandas as pd\n",
    "from collections import Counter\n",
    "\n",
    "import torch\n",
    "import torch.nn as nn\n",
    "from torch.utils.data import DataLoader, Dataset\n",
    "import torch.optim as optim\n",
    "\n",
    "from sklearn.model_selection import train_test_split\n",
    "from sklearn.metrics import classification_report\n",
    "\n",
    "from tqdm.notebook import tqdm"
   ]
  },
  {
   "cell_type": "markdown",
   "metadata": {},
   "source": [
    "Зафиксируем random_seed"
   ]
  },
  {
   "cell_type": "code",
   "execution_count": 2,
   "metadata": {},
   "outputs": [
    {
     "name": "stdout",
     "output_type": "stream",
     "text": [
      "Random seed set as 42\n"
     ]
    }
   ],
   "source": [
    "def set_seed(seed: int = 42) -> None:\n",
    "    np.random.seed(seed)\n",
    "    random.seed(seed)\n",
    "    torch.manual_seed(seed)\n",
    "    torch.cuda.manual_seed(seed)\n",
    "    # When running on the CuDNN backend, two further options must be set\n",
    "    torch.backends.cudnn.deterministic = True\n",
    "    torch.backends.cudnn.benchmark = False\n",
    "    # Set a fixed value for the hash seed\n",
    "    os.environ[\"PYTHONHASHSEED\"] = str(seed)\n",
    "    print(f\"Random seed set as {seed}\")\n",
    "\n",
    "set_seed(42)"
   ]
  },
  {
   "cell_type": "markdown",
   "metadata": {},
   "source": [
    "# 1 Загрузка данных"
   ]
  },
  {
   "cell_type": "code",
   "execution_count": 3,
   "metadata": {},
   "outputs": [
    {
     "data": {
      "text/html": [
       "<div>\n",
       "<style scoped>\n",
       "    .dataframe tbody tr th:only-of-type {\n",
       "        vertical-align: middle;\n",
       "    }\n",
       "\n",
       "    .dataframe tbody tr th {\n",
       "        vertical-align: top;\n",
       "    }\n",
       "\n",
       "    .dataframe thead th {\n",
       "        text-align: right;\n",
       "    }\n",
       "</style>\n",
       "<table border=\"1\" class=\"dataframe\">\n",
       "  <thead>\n",
       "    <tr style=\"text-align: right;\">\n",
       "      <th></th>\n",
       "      <th>Temperature</th>\n",
       "      <th>Humidity</th>\n",
       "      <th>PM2.5</th>\n",
       "      <th>PM10</th>\n",
       "      <th>NO2</th>\n",
       "      <th>SO2</th>\n",
       "      <th>CO</th>\n",
       "      <th>Proximity_to_Industrial_Areas</th>\n",
       "      <th>Population_Density</th>\n",
       "      <th>air_quality</th>\n",
       "    </tr>\n",
       "  </thead>\n",
       "  <tbody>\n",
       "    <tr>\n",
       "      <th>0</th>\n",
       "      <td>29.8</td>\n",
       "      <td>59.1</td>\n",
       "      <td>5.2</td>\n",
       "      <td>17.9</td>\n",
       "      <td>18.9</td>\n",
       "      <td>9.2</td>\n",
       "      <td>1.72</td>\n",
       "      <td>6.3</td>\n",
       "      <td>319</td>\n",
       "      <td>1</td>\n",
       "    </tr>\n",
       "    <tr>\n",
       "      <th>1</th>\n",
       "      <td>28.3</td>\n",
       "      <td>75.6</td>\n",
       "      <td>2.3</td>\n",
       "      <td>12.2</td>\n",
       "      <td>30.8</td>\n",
       "      <td>9.7</td>\n",
       "      <td>1.64</td>\n",
       "      <td>6.0</td>\n",
       "      <td>611</td>\n",
       "      <td>1</td>\n",
       "    </tr>\n",
       "    <tr>\n",
       "      <th>2</th>\n",
       "      <td>23.1</td>\n",
       "      <td>74.7</td>\n",
       "      <td>26.7</td>\n",
       "      <td>33.8</td>\n",
       "      <td>24.4</td>\n",
       "      <td>12.6</td>\n",
       "      <td>1.63</td>\n",
       "      <td>5.2</td>\n",
       "      <td>619</td>\n",
       "      <td>1</td>\n",
       "    </tr>\n",
       "    <tr>\n",
       "      <th>3</th>\n",
       "      <td>27.1</td>\n",
       "      <td>39.1</td>\n",
       "      <td>6.1</td>\n",
       "      <td>6.3</td>\n",
       "      <td>13.5</td>\n",
       "      <td>5.3</td>\n",
       "      <td>1.15</td>\n",
       "      <td>11.1</td>\n",
       "      <td>551</td>\n",
       "      <td>1</td>\n",
       "    </tr>\n",
       "    <tr>\n",
       "      <th>4</th>\n",
       "      <td>26.5</td>\n",
       "      <td>70.7</td>\n",
       "      <td>6.9</td>\n",
       "      <td>16.0</td>\n",
       "      <td>21.9</td>\n",
       "      <td>5.6</td>\n",
       "      <td>1.01</td>\n",
       "      <td>12.7</td>\n",
       "      <td>303</td>\n",
       "      <td>1</td>\n",
       "    </tr>\n",
       "  </tbody>\n",
       "</table>\n",
       "</div>"
      ],
      "text/plain": [
       "   Temperature  Humidity  PM2.5  PM10   NO2   SO2    CO  \\\n",
       "0         29.8      59.1    5.2  17.9  18.9   9.2  1.72   \n",
       "1         28.3      75.6    2.3  12.2  30.8   9.7  1.64   \n",
       "2         23.1      74.7   26.7  33.8  24.4  12.6  1.63   \n",
       "3         27.1      39.1    6.1   6.3  13.5   5.3  1.15   \n",
       "4         26.5      70.7    6.9  16.0  21.9   5.6  1.01   \n",
       "\n",
       "   Proximity_to_Industrial_Areas  Population_Density  air_quality  \n",
       "0                            6.3                 319            1  \n",
       "1                            6.0                 611            1  \n",
       "2                            5.2                 619            1  \n",
       "3                           11.1                 551            1  \n",
       "4                           12.7                 303            1  "
      ]
     },
     "execution_count": 3,
     "metadata": {},
     "output_type": "execute_result"
    }
   ],
   "source": [
    "df = pd.read_csv('air_quality.csv', sep=',')\n",
    "df.head()"
   ]
  },
  {
   "cell_type": "code",
   "execution_count": 4,
   "metadata": {},
   "outputs": [
    {
     "name": "stdout",
     "output_type": "stream",
     "text": [
      "<class 'pandas.core.frame.DataFrame'>\n",
      "RangeIndex: 5000 entries, 0 to 4999\n",
      "Data columns (total 10 columns):\n",
      " #   Column                         Non-Null Count  Dtype  \n",
      "---  ------                         --------------  -----  \n",
      " 0   Temperature                    5000 non-null   float64\n",
      " 1   Humidity                       5000 non-null   float64\n",
      " 2   PM2.5                          5000 non-null   float64\n",
      " 3   PM10                           5000 non-null   float64\n",
      " 4   NO2                            5000 non-null   float64\n",
      " 5   SO2                            5000 non-null   float64\n",
      " 6   CO                             5000 non-null   float64\n",
      " 7   Proximity_to_Industrial_Areas  5000 non-null   float64\n",
      " 8   Population_Density             5000 non-null   int64  \n",
      " 9   air_quality                    5000 non-null   int64  \n",
      "dtypes: float64(8), int64(2)\n",
      "memory usage: 390.8 KB\n"
     ]
    }
   ],
   "source": [
    "df.info()"
   ]
  },
  {
   "cell_type": "code",
   "execution_count": 5,
   "metadata": {},
   "outputs": [
    {
     "data": {
      "text/plain": [
       "(5000, 10)"
      ]
     },
     "execution_count": 5,
     "metadata": {},
     "output_type": "execute_result"
    }
   ],
   "source": [
    "df.shape"
   ]
  },
  {
   "cell_type": "markdown",
   "metadata": {},
   "source": [
    "# 2 Подготовка данных"
   ]
  },
  {
   "cell_type": "markdown",
   "metadata": {},
   "source": [
    "Разделим датасет на обучающую, валидационную и тестовую выборку со стратификацией. Целевая переменная — `air_quality`"
   ]
  },
  {
   "cell_type": "code",
   "execution_count": 6,
   "metadata": {},
   "outputs": [
    {
     "name": "stdout",
     "output_type": "stream",
     "text": [
      "Входное количество (100.0%): 5000\n",
      "Тренировачный размер (60.0%): 3000\n",
      "Валидационный размер (20.0%): 1000\n",
      "Тестовый размер (20.0%): 1000\n"
     ]
    }
   ],
   "source": [
    "# Размеры выборок\n",
    "train_size = 0.6\n",
    "val_size = 0.2\n",
    "test_size = 0.2\n",
    "\n",
    "# Разделение признаков и целевой переменной\n",
    "X = df.drop(columns=['air_quality'])\n",
    "y = df['air_quality']\n",
    "\n",
    "# Разбивка\n",
    "X_train, X_temp, y_train, y_temp = train_test_split(X, y, train_size=train_size, random_state=42, stratify=y)\n",
    "X_val, X_test, y_val, y_test = train_test_split(X_temp, y_temp, test_size=(test_size / (test_size + val_size)), random_state=42, stratify=y_temp)\n",
    "\n",
    "# Выведем результат\n",
    "print(f'Входное количество ({1.0*100}%): {df.shape[0]}')\n",
    "print(f'Тренировачный размер ({train_size*100}%): {X_train.shape[0]}')\n",
    "print(f'Валидационный размер ({val_size*100}%): {X_val.shape[0]}')\n",
    "print(f'Тестовый размер ({test_size*100}%): {X_test.shape[0]}')"
   ]
  },
  {
   "cell_type": "markdown",
   "metadata": {},
   "source": [
    "Создадим свой `Dateset`"
   ]
  },
  {
   "cell_type": "code",
   "execution_count": 7,
   "metadata": {},
   "outputs": [],
   "source": [
    "class CustomDataset(Dataset):\n",
    "    def __init__(self, X, y): \n",
    "        \"\"\"Преобразование из DataFrames в Tensors\"\"\"\n",
    "        self.X = torch.Tensor(X.values)\n",
    "        self.y = torch.from_numpy(y.values).reshape(-1, 1).float()\n",
    "    \n",
    "    def __len__(self):\n",
    "        \"\"\"Возвращает длину тензора\"\"\"\n",
    "        return self.X.shape[0]\n",
    "    \n",
    "    def __getitem__(self, index):\n",
    "        \"\"\"Возвращает 1 строку данных признаки-таргет\"\"\"\n",
    "        return (self.X[index], self.y[index])"
   ]
  },
  {
   "cell_type": "markdown",
   "metadata": {},
   "source": [
    "Инициализируем датасеты"
   ]
  },
  {
   "cell_type": "code",
   "execution_count": 8,
   "metadata": {},
   "outputs": [],
   "source": [
    "train_dataset = CustomDataset(X_train, y_train)\n",
    "val_dataset = CustomDataset(X_val, y_val)\n",
    "test_dataset = CustomDataset(X_test, y_test)"
   ]
  },
  {
   "cell_type": "markdown",
   "metadata": {},
   "source": [
    "Инициализируем `DataLoader`'s. Пока примем `batch_size` за 32"
   ]
  },
  {
   "cell_type": "code",
   "execution_count": 9,
   "metadata": {},
   "outputs": [],
   "source": [
    "train_dataloader = DataLoader(train_dataset, batch_size=32, shuffle=True)\n",
    "val_dataloader = DataLoader(val_dataset, batch_size=32, shuffle=False)\n",
    "val_dataloader = DataLoader(test_dataset, batch_size=32, shuffle=False)"
   ]
  },
  {
   "cell_type": "markdown",
   "metadata": {},
   "source": [
    "# 3 Нейросетевая модель"
   ]
  },
  {
   "cell_type": "markdown",
   "metadata": {},
   "source": [
    "Создадим шаблон нашей кастомной модели"
   ]
  },
  {
   "cell_type": "code",
   "execution_count": 10,
   "metadata": {},
   "outputs": [],
   "source": [
    "class CustomModel(nn.Module):\n",
    "    def __init__(self, inputs_size, hidden_size, out_size, hidden_count):\n",
    "        super(CustomModel, self).__init__()\n",
    "        self.linear_in = nn.Linear(inputs_size, hidden_size)\n",
    "        self.linear_hiddens = nn.ModuleList()\n",
    "        for _ in range(hidden_count):\n",
    "            self.linear_hiddens.append(nn.Linear(hidden_size, hidden_size))\n",
    "        self.linear_out = nn.Linear(hidden_size, out_size)\n",
    "\n",
    "    def forward(self, x):\n",
    "        x = self.linear_in(x)\n",
    "        x = torch.relu(x)\n",
    "        for linear_hidden in self.linear_hiddens:\n",
    "            x = linear_hidden(x)\n",
    "            x = torch.relu(x)\n",
    "        x = self.linear_out(x)\n",
    "        y_pred = torch.sigmoid(x)\n",
    "        return y_pred"
   ]
  },
  {
   "cell_type": "markdown",
   "metadata": {},
   "source": [
    "Зададим метод переброса на доступный device"
   ]
  },
  {
   "cell_type": "code",
   "execution_count": 11,
   "metadata": {},
   "outputs": [],
   "source": [
    "device = torch.device(\"cuda:0\" if torch.cuda.is_available() else \"cpu\")"
   ]
  },
  {
   "cell_type": "markdown",
   "metadata": {},
   "source": [
    "Создадим объект модели"
   ]
  },
  {
   "cell_type": "code",
   "execution_count": 66,
   "metadata": {},
   "outputs": [
    {
     "data": {
      "text/plain": [
       "CustomModel(\n",
       "  (linear_in): Linear(in_features=9, out_features=100, bias=True)\n",
       "  (linear_hiddens): ModuleList(\n",
       "    (0-3): 4 x Linear(in_features=100, out_features=100, bias=True)\n",
       "  )\n",
       "  (linear_out): Linear(in_features=100, out_features=1, bias=True)\n",
       ")"
      ]
     },
     "execution_count": 66,
     "metadata": {},
     "output_type": "execute_result"
    }
   ],
   "source": [
    "model = CustomModel(inputs_size=9, hidden_size=100, out_size=1, hidden_count=4)\n",
    "model.to(device)"
   ]
  },
  {
   "cell_type": "markdown",
   "metadata": {},
   "source": [
    "# 4 Шаблон обучения модели"
   ]
  },
  {
   "cell_type": "code",
   "execution_count": 61,
   "metadata": {},
   "outputs": [],
   "source": [
    "def train_loop(model, train_dataloader, val_dataloader, epochs=10, lr=0.001):\n",
    "    model.to(device)\n",
    "    criterion = nn.BCELoss()\n",
    "    optimizer = optim.SGD(model.parameters(), lr=lr)\n",
    "    for epoch in range(epochs):\n",
    "        model.train()\n",
    "        train_loss = 0.0\n",
    "\n",
    "        # Обучающая часть цикла\n",
    "        for batch in (tqdm(train_dataloader, desc=f'Epoch {epoch+1}/{epochs} [Training]') \n",
    "                      if ((epoch+1) % 100 == 0 or epoch == 0) else train_dataloader):\n",
    "            X_batch, y_batch = batch\n",
    "            X_batch, y_batch = X_batch.to(device), y_batch.to(device)\n",
    "            optimizer.zero_grad()  # Обнуляем градиенты\n",
    "            y_pred = model(X_batch)  # Предсказание модели\n",
    "            loss = criterion(y_pred, y_batch)  # Вычисляем ошибку\n",
    "            loss.backward()  # Обратное распространение ошибки\n",
    "            optimizer.step()  # Шаг оптимизации\n",
    "            train_loss += loss.item() * X_batch.size(0)  # Учитываем потерю для этой мини-партии\n",
    "        train_loss /= len(train_dataloader.dataset)  # Средняя ошибка по всему набору\n",
    "        \n",
    "        # Валидационная часть цикла\n",
    "        model.eval()\n",
    "        val_loss = 0.0\n",
    "        with torch.no_grad():\n",
    "            for batch in (tqdm(val_dataloader, desc=f'Epoch {epoch+1}/{epochs} [Training]') \n",
    "                          if ((epoch+1) % 100 == 0 or epoch == 0) else val_dataloader):\n",
    "                X_batch, y_batch = batch\n",
    "                X_batch, y_batch = X_batch.to(device), y_batch.to(device)\n",
    "                y_pred = model(X_batch)  # Предсказание модели\n",
    "                loss = criterion(y_pred, y_batch)  # Вычисляем ошибку\n",
    "                val_loss += loss.item() * X_batch.size(0)  # Учитываем потерю для этой мини-партии\n",
    "        val_loss /= len(val_dataloader.dataset)  # Средняя ошибка по всему набору\n",
    "        if (epoch+1) % 100 == 0  or epoch == 0:\n",
    "            print(f'Epoch [{epoch+1}/{epochs}] - Train Loss: {train_loss:.4f} - Val Loss: {val_loss:.4f}')\n",
    "    print('Обучение завершено!')"
   ]
  },
  {
   "cell_type": "markdown",
   "metadata": {},
   "source": [
    "# 5 Обучение модели"
   ]
  },
  {
   "cell_type": "markdown",
   "metadata": {},
   "source": [
    "В качестве оптимизатора был выбран SGD"
   ]
  },
  {
   "cell_type": "code",
   "execution_count": 67,
   "metadata": {},
   "outputs": [
    {
     "data": {
      "application/vnd.jupyter.widget-view+json": {
       "model_id": "a8c8c39fac1f4a5d914ce0c36836714c",
       "version_major": 2,
       "version_minor": 0
      },
      "text/plain": [
       "Epoch 1/2000 [Training]:   0%|          | 0/94 [00:00<?, ?it/s]"
      ]
     },
     "metadata": {},
     "output_type": "display_data"
    },
    {
     "data": {
      "application/vnd.jupyter.widget-view+json": {
       "model_id": "058b5667e42f4f56974632310ca8ce21",
       "version_major": 2,
       "version_minor": 0
      },
      "text/plain": [
       "Epoch 1/2000 [Training]:   0%|          | 0/32 [00:00<?, ?it/s]"
      ]
     },
     "metadata": {},
     "output_type": "display_data"
    },
    {
     "name": "stdout",
     "output_type": "stream",
     "text": [
      "Epoch [1/2000] - Train Loss: 0.6446 - Val Loss: 0.6326\n"
     ]
    },
    {
     "data": {
      "application/vnd.jupyter.widget-view+json": {
       "model_id": "9e652802342a49dd852e737367e2ba1d",
       "version_major": 2,
       "version_minor": 0
      },
      "text/plain": [
       "Epoch 100/2000 [Training]:   0%|          | 0/94 [00:00<?, ?it/s]"
      ]
     },
     "metadata": {},
     "output_type": "display_data"
    },
    {
     "data": {
      "application/vnd.jupyter.widget-view+json": {
       "model_id": "008b045a45f54447800d2650da3bb803",
       "version_major": 2,
       "version_minor": 0
      },
      "text/plain": [
       "Epoch 100/2000 [Training]:   0%|          | 0/32 [00:00<?, ?it/s]"
      ]
     },
     "metadata": {},
     "output_type": "display_data"
    },
    {
     "name": "stdout",
     "output_type": "stream",
     "text": [
      "Epoch [100/2000] - Train Loss: 0.3244 - Val Loss: 0.2866\n"
     ]
    },
    {
     "data": {
      "application/vnd.jupyter.widget-view+json": {
       "model_id": "05b7a7374f3641359df6b9bd86ec2c17",
       "version_major": 2,
       "version_minor": 0
      },
      "text/plain": [
       "Epoch 200/2000 [Training]:   0%|          | 0/94 [00:00<?, ?it/s]"
      ]
     },
     "metadata": {},
     "output_type": "display_data"
    },
    {
     "data": {
      "application/vnd.jupyter.widget-view+json": {
       "model_id": "3307b3d1637c4c2f99283f3ba402e335",
       "version_major": 2,
       "version_minor": 0
      },
      "text/plain": [
       "Epoch 200/2000 [Training]:   0%|          | 0/32 [00:00<?, ?it/s]"
      ]
     },
     "metadata": {},
     "output_type": "display_data"
    },
    {
     "name": "stdout",
     "output_type": "stream",
     "text": [
      "Epoch [200/2000] - Train Loss: 0.2608 - Val Loss: 0.2343\n"
     ]
    },
    {
     "data": {
      "application/vnd.jupyter.widget-view+json": {
       "model_id": "934be6768d81495786b8f6ac2c92ea0b",
       "version_major": 2,
       "version_minor": 0
      },
      "text/plain": [
       "Epoch 300/2000 [Training]:   0%|          | 0/94 [00:00<?, ?it/s]"
      ]
     },
     "metadata": {},
     "output_type": "display_data"
    },
    {
     "data": {
      "application/vnd.jupyter.widget-view+json": {
       "model_id": "7574d19ef89d44e0a414b1fe1d7da23f",
       "version_major": 2,
       "version_minor": 0
      },
      "text/plain": [
       "Epoch 300/2000 [Training]:   0%|          | 0/32 [00:00<?, ?it/s]"
      ]
     },
     "metadata": {},
     "output_type": "display_data"
    },
    {
     "name": "stdout",
     "output_type": "stream",
     "text": [
      "Epoch [300/2000] - Train Loss: 0.2470 - Val Loss: 0.2175\n"
     ]
    },
    {
     "data": {
      "application/vnd.jupyter.widget-view+json": {
       "model_id": "8159c052dc1644cc80791568fde197fa",
       "version_major": 2,
       "version_minor": 0
      },
      "text/plain": [
       "Epoch 400/2000 [Training]:   0%|          | 0/94 [00:00<?, ?it/s]"
      ]
     },
     "metadata": {},
     "output_type": "display_data"
    },
    {
     "data": {
      "application/vnd.jupyter.widget-view+json": {
       "model_id": "3f0219de454b48d4b36e4839343d7197",
       "version_major": 2,
       "version_minor": 0
      },
      "text/plain": [
       "Epoch 400/2000 [Training]:   0%|          | 0/32 [00:00<?, ?it/s]"
      ]
     },
     "metadata": {},
     "output_type": "display_data"
    },
    {
     "name": "stdout",
     "output_type": "stream",
     "text": [
      "Epoch [400/2000] - Train Loss: 0.2316 - Val Loss: 0.3249\n"
     ]
    },
    {
     "data": {
      "application/vnd.jupyter.widget-view+json": {
       "model_id": "a486faa79eaf4648bc777015c702a916",
       "version_major": 2,
       "version_minor": 0
      },
      "text/plain": [
       "Epoch 500/2000 [Training]:   0%|          | 0/94 [00:00<?, ?it/s]"
      ]
     },
     "metadata": {},
     "output_type": "display_data"
    },
    {
     "data": {
      "application/vnd.jupyter.widget-view+json": {
       "model_id": "ee49554cda3d4c668c989ba74cc94faf",
       "version_major": 2,
       "version_minor": 0
      },
      "text/plain": [
       "Epoch 500/2000 [Training]:   0%|          | 0/32 [00:00<?, ?it/s]"
      ]
     },
     "metadata": {},
     "output_type": "display_data"
    },
    {
     "name": "stdout",
     "output_type": "stream",
     "text": [
      "Epoch [500/2000] - Train Loss: 0.2118 - Val Loss: 0.1936\n"
     ]
    },
    {
     "data": {
      "application/vnd.jupyter.widget-view+json": {
       "model_id": "767108953ad84c739f28b69d39f7d661",
       "version_major": 2,
       "version_minor": 0
      },
      "text/plain": [
       "Epoch 600/2000 [Training]:   0%|          | 0/94 [00:00<?, ?it/s]"
      ]
     },
     "metadata": {},
     "output_type": "display_data"
    },
    {
     "data": {
      "application/vnd.jupyter.widget-view+json": {
       "model_id": "9d9b807e8d954afe967ea20f527d6ae7",
       "version_major": 2,
       "version_minor": 0
      },
      "text/plain": [
       "Epoch 600/2000 [Training]:   0%|          | 0/32 [00:00<?, ?it/s]"
      ]
     },
     "metadata": {},
     "output_type": "display_data"
    },
    {
     "name": "stdout",
     "output_type": "stream",
     "text": [
      "Epoch [600/2000] - Train Loss: 0.1872 - Val Loss: 0.1850\n"
     ]
    },
    {
     "data": {
      "application/vnd.jupyter.widget-view+json": {
       "model_id": "6bbd7afabf5c4d148c6a00598edf7369",
       "version_major": 2,
       "version_minor": 0
      },
      "text/plain": [
       "Epoch 700/2000 [Training]:   0%|          | 0/94 [00:00<?, ?it/s]"
      ]
     },
     "metadata": {},
     "output_type": "display_data"
    },
    {
     "data": {
      "application/vnd.jupyter.widget-view+json": {
       "model_id": "6c54608d783b4f1d9d2f6e6c91a6050a",
       "version_major": 2,
       "version_minor": 0
      },
      "text/plain": [
       "Epoch 700/2000 [Training]:   0%|          | 0/32 [00:00<?, ?it/s]"
      ]
     },
     "metadata": {},
     "output_type": "display_data"
    },
    {
     "name": "stdout",
     "output_type": "stream",
     "text": [
      "Epoch [700/2000] - Train Loss: 0.1762 - Val Loss: 0.1709\n"
     ]
    },
    {
     "data": {
      "application/vnd.jupyter.widget-view+json": {
       "model_id": "571df2ed3ff44406b0ca833c7e96763a",
       "version_major": 2,
       "version_minor": 0
      },
      "text/plain": [
       "Epoch 800/2000 [Training]:   0%|          | 0/94 [00:00<?, ?it/s]"
      ]
     },
     "metadata": {},
     "output_type": "display_data"
    },
    {
     "data": {
      "application/vnd.jupyter.widget-view+json": {
       "model_id": "846de7f68a2e4f6e9c5d8fa20dfb1cb8",
       "version_major": 2,
       "version_minor": 0
      },
      "text/plain": [
       "Epoch 800/2000 [Training]:   0%|          | 0/32 [00:00<?, ?it/s]"
      ]
     },
     "metadata": {},
     "output_type": "display_data"
    },
    {
     "name": "stdout",
     "output_type": "stream",
     "text": [
      "Epoch [800/2000] - Train Loss: 0.1513 - Val Loss: 0.1946\n"
     ]
    },
    {
     "data": {
      "application/vnd.jupyter.widget-view+json": {
       "model_id": "d10613b299984ef89a7ce64d7de72ecc",
       "version_major": 2,
       "version_minor": 0
      },
      "text/plain": [
       "Epoch 900/2000 [Training]:   0%|          | 0/94 [00:00<?, ?it/s]"
      ]
     },
     "metadata": {},
     "output_type": "display_data"
    },
    {
     "data": {
      "application/vnd.jupyter.widget-view+json": {
       "model_id": "ed237b8209fa4c35a20a8d4f5c1950c7",
       "version_major": 2,
       "version_minor": 0
      },
      "text/plain": [
       "Epoch 900/2000 [Training]:   0%|          | 0/32 [00:00<?, ?it/s]"
      ]
     },
     "metadata": {},
     "output_type": "display_data"
    },
    {
     "name": "stdout",
     "output_type": "stream",
     "text": [
      "Epoch [900/2000] - Train Loss: 0.1454 - Val Loss: 0.1706\n"
     ]
    },
    {
     "data": {
      "application/vnd.jupyter.widget-view+json": {
       "model_id": "658063576aa848a7834cd14e993b5fa1",
       "version_major": 2,
       "version_minor": 0
      },
      "text/plain": [
       "Epoch 1000/2000 [Training]:   0%|          | 0/94 [00:00<?, ?it/s]"
      ]
     },
     "metadata": {},
     "output_type": "display_data"
    },
    {
     "data": {
      "application/vnd.jupyter.widget-view+json": {
       "model_id": "b09f62c303bc4bdf85d2597a1abe212e",
       "version_major": 2,
       "version_minor": 0
      },
      "text/plain": [
       "Epoch 1000/2000 [Training]:   0%|          | 0/32 [00:00<?, ?it/s]"
      ]
     },
     "metadata": {},
     "output_type": "display_data"
    },
    {
     "name": "stdout",
     "output_type": "stream",
     "text": [
      "Epoch [1000/2000] - Train Loss: 0.1492 - Val Loss: 0.1427\n"
     ]
    },
    {
     "data": {
      "application/vnd.jupyter.widget-view+json": {
       "model_id": "f73b5362fe394f6688739601cac85222",
       "version_major": 2,
       "version_minor": 0
      },
      "text/plain": [
       "Epoch 1100/2000 [Training]:   0%|          | 0/94 [00:00<?, ?it/s]"
      ]
     },
     "metadata": {},
     "output_type": "display_data"
    },
    {
     "data": {
      "application/vnd.jupyter.widget-view+json": {
       "model_id": "500583895965478aa16f89f68dfac698",
       "version_major": 2,
       "version_minor": 0
      },
      "text/plain": [
       "Epoch 1100/2000 [Training]:   0%|          | 0/32 [00:00<?, ?it/s]"
      ]
     },
     "metadata": {},
     "output_type": "display_data"
    },
    {
     "name": "stdout",
     "output_type": "stream",
     "text": [
      "Epoch [1100/2000] - Train Loss: 0.1302 - Val Loss: 0.1810\n"
     ]
    },
    {
     "data": {
      "application/vnd.jupyter.widget-view+json": {
       "model_id": "700b7371c95e46e4a08679c342f6467c",
       "version_major": 2,
       "version_minor": 0
      },
      "text/plain": [
       "Epoch 1200/2000 [Training]:   0%|          | 0/94 [00:00<?, ?it/s]"
      ]
     },
     "metadata": {},
     "output_type": "display_data"
    },
    {
     "data": {
      "application/vnd.jupyter.widget-view+json": {
       "model_id": "efdbb547d34a4998b8c14ec4470496e2",
       "version_major": 2,
       "version_minor": 0
      },
      "text/plain": [
       "Epoch 1200/2000 [Training]:   0%|          | 0/32 [00:00<?, ?it/s]"
      ]
     },
     "metadata": {},
     "output_type": "display_data"
    },
    {
     "name": "stdout",
     "output_type": "stream",
     "text": [
      "Epoch [1200/2000] - Train Loss: 0.1051 - Val Loss: 0.5229\n"
     ]
    },
    {
     "data": {
      "application/vnd.jupyter.widget-view+json": {
       "model_id": "5c9ca70b8b1f4c619b03bcc7f9df8d73",
       "version_major": 2,
       "version_minor": 0
      },
      "text/plain": [
       "Epoch 1300/2000 [Training]:   0%|          | 0/94 [00:00<?, ?it/s]"
      ]
     },
     "metadata": {},
     "output_type": "display_data"
    },
    {
     "data": {
      "application/vnd.jupyter.widget-view+json": {
       "model_id": "1018731871bd41cdbc9d981ce254e151",
       "version_major": 2,
       "version_minor": 0
      },
      "text/plain": [
       "Epoch 1300/2000 [Training]:   0%|          | 0/32 [00:00<?, ?it/s]"
      ]
     },
     "metadata": {},
     "output_type": "display_data"
    },
    {
     "name": "stdout",
     "output_type": "stream",
     "text": [
      "Epoch [1300/2000] - Train Loss: 0.1035 - Val Loss: 0.1372\n"
     ]
    },
    {
     "data": {
      "application/vnd.jupyter.widget-view+json": {
       "model_id": "9830eac8d311492abab0e3aab6c6ff30",
       "version_major": 2,
       "version_minor": 0
      },
      "text/plain": [
       "Epoch 1400/2000 [Training]:   0%|          | 0/94 [00:00<?, ?it/s]"
      ]
     },
     "metadata": {},
     "output_type": "display_data"
    },
    {
     "data": {
      "application/vnd.jupyter.widget-view+json": {
       "model_id": "83f2de89d0b9423bb9f8a140d2056476",
       "version_major": 2,
       "version_minor": 0
      },
      "text/plain": [
       "Epoch 1400/2000 [Training]:   0%|          | 0/32 [00:00<?, ?it/s]"
      ]
     },
     "metadata": {},
     "output_type": "display_data"
    },
    {
     "name": "stdout",
     "output_type": "stream",
     "text": [
      "Epoch [1400/2000] - Train Loss: 0.1394 - Val Loss: 0.1813\n"
     ]
    },
    {
     "data": {
      "application/vnd.jupyter.widget-view+json": {
       "model_id": "44eedd0c2aa4494d953e0e16245dbe8b",
       "version_major": 2,
       "version_minor": 0
      },
      "text/plain": [
       "Epoch 1500/2000 [Training]:   0%|          | 0/94 [00:00<?, ?it/s]"
      ]
     },
     "metadata": {},
     "output_type": "display_data"
    },
    {
     "data": {
      "application/vnd.jupyter.widget-view+json": {
       "model_id": "4fba59b8c30740488182621bb66bc55e",
       "version_major": 2,
       "version_minor": 0
      },
      "text/plain": [
       "Epoch 1500/2000 [Training]:   0%|          | 0/32 [00:00<?, ?it/s]"
      ]
     },
     "metadata": {},
     "output_type": "display_data"
    },
    {
     "name": "stdout",
     "output_type": "stream",
     "text": [
      "Epoch [1500/2000] - Train Loss: 0.0960 - Val Loss: 0.1742\n"
     ]
    },
    {
     "data": {
      "application/vnd.jupyter.widget-view+json": {
       "model_id": "beaf99c5493a466cb08ee10b71481c16",
       "version_major": 2,
       "version_minor": 0
      },
      "text/plain": [
       "Epoch 1600/2000 [Training]:   0%|          | 0/94 [00:00<?, ?it/s]"
      ]
     },
     "metadata": {},
     "output_type": "display_data"
    },
    {
     "data": {
      "application/vnd.jupyter.widget-view+json": {
       "model_id": "d2fb60ce20ee4e14ae87d6fdfae531a8",
       "version_major": 2,
       "version_minor": 0
      },
      "text/plain": [
       "Epoch 1600/2000 [Training]:   0%|          | 0/32 [00:00<?, ?it/s]"
      ]
     },
     "metadata": {},
     "output_type": "display_data"
    },
    {
     "name": "stdout",
     "output_type": "stream",
     "text": [
      "Epoch [1600/2000] - Train Loss: 0.0839 - Val Loss: 0.1340\n"
     ]
    },
    {
     "data": {
      "application/vnd.jupyter.widget-view+json": {
       "model_id": "1a19b3687a3a49b1959733f3c7e77ce1",
       "version_major": 2,
       "version_minor": 0
      },
      "text/plain": [
       "Epoch 1700/2000 [Training]:   0%|          | 0/94 [00:00<?, ?it/s]"
      ]
     },
     "metadata": {},
     "output_type": "display_data"
    },
    {
     "data": {
      "application/vnd.jupyter.widget-view+json": {
       "model_id": "45371570588f49f2a17347c65a271dcb",
       "version_major": 2,
       "version_minor": 0
      },
      "text/plain": [
       "Epoch 1700/2000 [Training]:   0%|          | 0/32 [00:00<?, ?it/s]"
      ]
     },
     "metadata": {},
     "output_type": "display_data"
    },
    {
     "name": "stdout",
     "output_type": "stream",
     "text": [
      "Epoch [1700/2000] - Train Loss: 0.0780 - Val Loss: 0.1663\n"
     ]
    },
    {
     "data": {
      "application/vnd.jupyter.widget-view+json": {
       "model_id": "c1ff30f02ffe42488ae786ecbb0d8727",
       "version_major": 2,
       "version_minor": 0
      },
      "text/plain": [
       "Epoch 1800/2000 [Training]:   0%|          | 0/94 [00:00<?, ?it/s]"
      ]
     },
     "metadata": {},
     "output_type": "display_data"
    },
    {
     "data": {
      "application/vnd.jupyter.widget-view+json": {
       "model_id": "2b5a0a7cf09d4ea49cc1a70b9deeffcc",
       "version_major": 2,
       "version_minor": 0
      },
      "text/plain": [
       "Epoch 1800/2000 [Training]:   0%|          | 0/32 [00:00<?, ?it/s]"
      ]
     },
     "metadata": {},
     "output_type": "display_data"
    },
    {
     "name": "stdout",
     "output_type": "stream",
     "text": [
      "Epoch [1800/2000] - Train Loss: 0.0593 - Val Loss: 0.1342\n"
     ]
    },
    {
     "data": {
      "application/vnd.jupyter.widget-view+json": {
       "model_id": "da9d7bd7a16945b9bf79b50bd46f3b02",
       "version_major": 2,
       "version_minor": 0
      },
      "text/plain": [
       "Epoch 1900/2000 [Training]:   0%|          | 0/94 [00:00<?, ?it/s]"
      ]
     },
     "metadata": {},
     "output_type": "display_data"
    },
    {
     "data": {
      "application/vnd.jupyter.widget-view+json": {
       "model_id": "a500a0649aee445fad237e6c08224bbc",
       "version_major": 2,
       "version_minor": 0
      },
      "text/plain": [
       "Epoch 1900/2000 [Training]:   0%|          | 0/32 [00:00<?, ?it/s]"
      ]
     },
     "metadata": {},
     "output_type": "display_data"
    },
    {
     "name": "stdout",
     "output_type": "stream",
     "text": [
      "Epoch [1900/2000] - Train Loss: 0.0552 - Val Loss: 0.1461\n"
     ]
    },
    {
     "data": {
      "application/vnd.jupyter.widget-view+json": {
       "model_id": "54c1891585c241f2b7dc143b470597e4",
       "version_major": 2,
       "version_minor": 0
      },
      "text/plain": [
       "Epoch 2000/2000 [Training]:   0%|          | 0/94 [00:00<?, ?it/s]"
      ]
     },
     "metadata": {},
     "output_type": "display_data"
    },
    {
     "data": {
      "application/vnd.jupyter.widget-view+json": {
       "model_id": "3b1eed4a748e47cba6f9e3367a4bc244",
       "version_major": 2,
       "version_minor": 0
      },
      "text/plain": [
       "Epoch 2000/2000 [Training]:   0%|          | 0/32 [00:00<?, ?it/s]"
      ]
     },
     "metadata": {},
     "output_type": "display_data"
    },
    {
     "name": "stdout",
     "output_type": "stream",
     "text": [
      "Epoch [2000/2000] - Train Loss: 0.0616 - Val Loss: 0.1372\n",
      "Обучение завершено!\n",
      "CPU times: total: 45.3 s\n",
      "Wall time: 5min 30s\n"
     ]
    }
   ],
   "source": [
    "%%time\n",
    "train_loop(model, train_dataloader, val_dataloader, 2000, 0.001)"
   ]
  },
  {
   "cell_type": "code",
   "execution_count": 30,
   "metadata": {},
   "outputs": [],
   "source": [
    "def evaluate_model(model, test_dataloader, threshold=0.5):\n",
    "    model.to(device)\n",
    "    model.eval()\n",
    "    all_preds = []  # Для хранения всех предсказанных меток\n",
    "    all_labels = []  # Для хранения всех истинных меток\n",
    "    with torch.no_grad():\n",
    "        for batch in test_dataloader:\n",
    "            X_batch, y_batch = batch\n",
    "            X_batch, y_batch = X_batch.to(device), y_batch.to(device)\n",
    "            y_pred_probs = model(X_batch)  \n",
    "            y_pred_labels = (y_pred_probs >= threshold).float()\n",
    "            all_preds.extend(y_pred_labels.cpu().numpy().flatten())\n",
    "            all_labels.extend(y_batch.cpu().numpy().flatten())\n",
    "    report = classification_report(all_labels, all_preds, target_names=['class 0', 'class 1'])\n",
    "    print(Counter(all_preds))\n",
    "    print(\"\\nClassification Report:\\n\")\n",
    "    print(report)"
   ]
  },
  {
   "cell_type": "code",
   "execution_count": 68,
   "metadata": {},
   "outputs": [
    {
     "name": "stdout",
     "output_type": "stream",
     "text": [
      "Counter({np.float32(1.0): 721, np.float32(0.0): 279})\n",
      "\n",
      "Classification Report:\n",
      "\n",
      "              precision    recall  f1-score   support\n",
      "\n",
      "     class 0       0.94      0.87      0.91       300\n",
      "     class 1       0.95      0.98      0.96       700\n",
      "\n",
      "    accuracy                           0.94      1000\n",
      "   macro avg       0.94      0.92      0.93      1000\n",
      "weighted avg       0.94      0.94      0.94      1000\n",
      "\n"
     ]
    }
   ],
   "source": [
    "evaluate_model(model, val_dataloader)"
   ]
  },
  {
   "cell_type": "markdown",
   "metadata": {},
   "source": [
    "По ходу выполнения ноутбука — менял следующие параметры:\n",
    "- Количество эпох обучения\n",
    "- Количество скрытых слоёв\n",
    "- Размер скрытых слоёв\n",
    "\n",
    "Сейчас подобраны оптимальные настройки"
   ]
  }
 ],
 "metadata": {
  "kernelspec": {
   "display_name": ".venv",
   "language": "python",
   "name": "python3"
  },
  "language_info": {
   "codemirror_mode": {
    "name": "ipython",
    "version": 3
   },
   "file_extension": ".py",
   "mimetype": "text/x-python",
   "name": "python",
   "nbconvert_exporter": "python",
   "pygments_lexer": "ipython3",
   "version": "3.10.6"
  }
 },
 "nbformat": 4,
 "nbformat_minor": 2
}
